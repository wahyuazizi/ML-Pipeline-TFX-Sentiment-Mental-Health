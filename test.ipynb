{
 "cells": [
  {
   "cell_type": "code",
   "execution_count": 7,
   "metadata": {},
   "outputs": [],
   "source": [
    "import base64\n",
    "import json\n",
    "import pandas as pd\n",
    "import requests\n",
    "import tensorflow as tf"
   ]
  },
  {
   "cell_type": "code",
   "execution_count": 3,
   "metadata": {},
   "outputs": [],
   "source": [
    "# Load dataset\n",
    "df = pd.read_csv(\"data/data.csv\")  # Ganti dengan path dataset Anda\n",
    "test_text = df[\"Text\"][0]  # Mengambil teks dari dataset untuk diuji"
   ]
  },
  {
   "cell_type": "code",
   "execution_count": 4,
   "metadata": {},
   "outputs": [],
   "source": [
    "\n",
    "def prepare_json(text):\n",
    "    \"\"\"\n",
    "    Fungsi ini mengubah teks menjadi format JSON yang sesuai untuk inferensi model.\n",
    "    \"\"\"\n",
    "    feature_spec = {\n",
    "        \"Text\": tf.train.Feature(\n",
    "            bytes_list=tf.train.BytesList(value=[bytes(text, \"utf-8\")])\n",
    "        )\n",
    "    }\n",
    "\n",
    "    example = tf.train.Example(\n",
    "        features=tf.train.Features(feature=feature_spec)\n",
    "    ).SerializeToString()\n",
    "\n",
    "    result = [{\"examples\": {\"b64\": base64.b64encode(example).decode()}}]\n",
    "\n",
    "    return json.dumps({\"signature_name\": \"serving_default\", \"instances\": result})\n"
   ]
  },
  {
   "cell_type": "code",
   "execution_count": 5,
   "metadata": {},
   "outputs": [],
   "source": [
    "\n",
    "def make_predictions(text):\n",
    "    \"\"\"\n",
    "    Fungsi ini mengirim request ke model TensorFlow Serving dan mendapatkan prediksi.\n",
    "    \"\"\"\n",
    "    json_data = prepare_json(text)\n",
    "\n",
    "    # Ganti URL dengan endpoint model Anda\n",
    "    endpoint = \"http://localhost:8080/v1/models/racism-detection-model:predict\"\n",
    "    \n",
    "    response = requests.post(endpoint, data=json_data)\n",
    "\n",
    "    if response.status_code == 200:\n",
    "        prediction = response.json()[\"predictions\"][0][0]\n",
    "        return prediction\n",
    "    else:\n",
    "        print(\"Error:\", response.text)\n",
    "        return None\n"
   ]
  },
  {
   "cell_type": "code",
   "execution_count": 6,
   "metadata": {},
   "outputs": [
    {
     "name": "stdout",
     "output_type": "stream",
     "text": [
      "Teks: @AAlwuhaib1977 Muslim mob violence against Hindus in Bangladesh continues in 2014. #Islam http://t.co/C1JBWJwuRc\n",
      "Prediksi: 0.999851704\n",
      "Label Asli: 1\n"
     ]
    }
   ],
   "source": [
    "\n",
    "# Melakukan prediksi\n",
    "prediksi = make_predictions(test_text)\n",
    "\n",
    "print(f\"Teks: {test_text}\")\n",
    "print(f\"Prediksi: {prediksi}\")\n",
    "print(f\"Label Asli: {df['oh_label'][0]}\")\n"
   ]
  },
  {
   "cell_type": "code",
   "execution_count": null,
   "metadata": {},
   "outputs": [],
   "source": []
  }
 ],
 "metadata": {
  "kernelspec": {
   "display_name": "mlops-tfx",
   "language": "python",
   "name": "python3"
  },
  "language_info": {
   "codemirror_mode": {
    "name": "ipython",
    "version": 3
   },
   "file_extension": ".py",
   "mimetype": "text/x-python",
   "name": "python",
   "nbconvert_exporter": "python",
   "pygments_lexer": "ipython3",
   "version": "3.9.15"
  }
 },
 "nbformat": 4,
 "nbformat_minor": 2
}
