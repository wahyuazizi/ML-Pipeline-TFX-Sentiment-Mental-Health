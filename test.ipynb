{
 "cells": [
  {
   "cell_type": "code",
   "execution_count": 1,
   "metadata": {},
   "outputs": [],
   "source": [
    "import base64\n",
    "import json\n",
    "import pandas as pd\n",
    "import requests\n",
    "import tensorflow as tf"
   ]
  },
  {
   "cell_type": "code",
   "execution_count": 15,
   "metadata": {},
   "outputs": [
    {
     "data": {
      "text/html": [
       "<div>\n",
       "<style scoped>\n",
       "    .dataframe tbody tr th:only-of-type {\n",
       "        vertical-align: middle;\n",
       "    }\n",
       "\n",
       "    .dataframe tbody tr th {\n",
       "        vertical-align: top;\n",
       "    }\n",
       "\n",
       "    .dataframe thead th {\n",
       "        text-align: right;\n",
       "    }\n",
       "</style>\n",
       "<table border=\"1\" class=\"dataframe\">\n",
       "  <thead>\n",
       "    <tr style=\"text-align: right;\">\n",
       "      <th></th>\n",
       "      <th>index</th>\n",
       "      <th>id</th>\n",
       "      <th>Text</th>\n",
       "      <th>Annotation</th>\n",
       "      <th>oh_label</th>\n",
       "    </tr>\n",
       "  </thead>\n",
       "  <tbody>\n",
       "    <tr>\n",
       "      <th>132</th>\n",
       "      <td>5.691813e+17</td>\n",
       "      <td>5.691813e+17</td>\n",
       "      <td>i don't know because i had everyone else on th...</td>\n",
       "      <td>none</td>\n",
       "      <td>0</td>\n",
       "    </tr>\n",
       "    <tr>\n",
       "      <th>3936</th>\n",
       "      <td>5.736065e+17</td>\n",
       "      <td>5.736065e+17</td>\n",
       "      <td>Yes, I'm aware of GGs efforts with the IRS. No...</td>\n",
       "      <td>none</td>\n",
       "      <td>0</td>\n",
       "    </tr>\n",
       "    <tr>\n",
       "      <th>12839</th>\n",
       "      <td>5.691785e+17</td>\n",
       "      <td>5.691785e+17</td>\n",
       "      <td>@1Life0Continues a number of variables. :)  i'...</td>\n",
       "      <td>none</td>\n",
       "      <td>0</td>\n",
       "    </tr>\n",
       "    <tr>\n",
       "      <th>7690</th>\n",
       "      <td>5.525246e+17</td>\n",
       "      <td>5.525246e+17</td>\n",
       "      <td>RT @riwired: .@ORehaf Oh No.Do NOT go to \"Isla...</td>\n",
       "      <td>racism</td>\n",
       "      <td>1</td>\n",
       "    </tr>\n",
       "    <tr>\n",
       "      <th>11226</th>\n",
       "      <td>5.633276e+17</td>\n",
       "      <td>5.633276e+17</td>\n",
       "      <td>No. http://t.co/ljHm8Wd27r</td>\n",
       "      <td>none</td>\n",
       "      <td>0</td>\n",
       "    </tr>\n",
       "    <tr>\n",
       "      <th>2885</th>\n",
       "      <td>5.758901e+17</td>\n",
       "      <td>5.758901e+17</td>\n",
       "      <td>@glitchDreams @Popehat doesn't work. I don't t...</td>\n",
       "      <td>none</td>\n",
       "      <td>0</td>\n",
       "    </tr>\n",
       "    <tr>\n",
       "      <th>8892</th>\n",
       "      <td>5.755054e+17</td>\n",
       "      <td>5.755054e+17</td>\n",
       "      <td>@SAIACarleton @Naazzk What about the environme...</td>\n",
       "      <td>racism</td>\n",
       "      <td>1</td>\n",
       "    </tr>\n",
       "    <tr>\n",
       "      <th>11006</th>\n",
       "      <td>5.755982e+17</td>\n",
       "      <td>5.755982e+17</td>\n",
       "      <td>RT @norme73: #mkr i noticed Kat and Andre were...</td>\n",
       "      <td>none</td>\n",
       "      <td>0</td>\n",
       "    </tr>\n",
       "    <tr>\n",
       "      <th>7814</th>\n",
       "      <td>5.723310e+17</td>\n",
       "      <td>5.723310e+17</td>\n",
       "      <td>RT @benpobjie: “We see a future for ourselves ...</td>\n",
       "      <td>none</td>\n",
       "      <td>0</td>\n",
       "    </tr>\n",
       "    <tr>\n",
       "      <th>7023</th>\n",
       "      <td>5.723321e+17</td>\n",
       "      <td>5.723321e+17</td>\n",
       "      <td>Lynn, I would have scored them a 2 #MKR</td>\n",
       "      <td>none</td>\n",
       "      <td>0</td>\n",
       "    </tr>\n",
       "  </tbody>\n",
       "</table>\n",
       "</div>"
      ],
      "text/plain": [
       "              index            id  \\\n",
       "132    5.691813e+17  5.691813e+17   \n",
       "3936   5.736065e+17  5.736065e+17   \n",
       "12839  5.691785e+17  5.691785e+17   \n",
       "7690   5.525246e+17  5.525246e+17   \n",
       "11226  5.633276e+17  5.633276e+17   \n",
       "2885   5.758901e+17  5.758901e+17   \n",
       "8892   5.755054e+17  5.755054e+17   \n",
       "11006  5.755982e+17  5.755982e+17   \n",
       "7814   5.723310e+17  5.723310e+17   \n",
       "7023   5.723321e+17  5.723321e+17   \n",
       "\n",
       "                                                    Text Annotation  oh_label  \n",
       "132    i don't know because i had everyone else on th...       none         0  \n",
       "3936   Yes, I'm aware of GGs efforts with the IRS. No...       none         0  \n",
       "12839  @1Life0Continues a number of variables. :)  i'...       none         0  \n",
       "7690   RT @riwired: .@ORehaf Oh No.Do NOT go to \"Isla...     racism         1  \n",
       "11226                         No. http://t.co/ljHm8Wd27r       none         0  \n",
       "2885   @glitchDreams @Popehat doesn't work. I don't t...       none         0  \n",
       "8892   @SAIACarleton @Naazzk What about the environme...     racism         1  \n",
       "11006  RT @norme73: #mkr i noticed Kat and Andre were...       none         0  \n",
       "7814   RT @benpobjie: “We see a future for ourselves ...       none         0  \n",
       "7023             Lynn, I would have scored them a 2 #MKR       none         0  "
      ]
     },
     "execution_count": 15,
     "metadata": {},
     "output_type": "execute_result"
    }
   ],
   "source": [
    "df = pd.read_csv(\"hf://datasets/sakren/twitter_racism_dataset/twitter_racism_parsed_dataset.csv\")\n",
    "\n",
    "df.sample(10)"
   ]
  },
  {
   "cell_type": "code",
   "execution_count": 17,
   "metadata": {},
   "outputs": [
    {
     "data": {
      "text/plain": [
       "\"i don't know because i had everyone else on that thread blocked. but i'm am loling so hard right now.\""
      ]
     },
     "execution_count": 17,
     "metadata": {},
     "output_type": "execute_result"
    }
   ],
   "source": [
    "testing_text = df[\"Text\"][132]\n",
    "testing_text"
   ]
  },
  {
   "cell_type": "code",
   "execution_count": 18,
   "metadata": {},
   "outputs": [],
   "source": [
    "def json_prepare(text):\n",
    "    feature_spec = {\n",
    "        \"text\": tf.train.Feature(\n",
    "            bytes_list=tf.train.BytesList(value=[bytes(text, \"utf-8\")])\n",
    "        )\n",
    "    }\n",
    "\n",
    "    example = tf.train.Example(\n",
    "        features = tf.train.Features(feature=feature_spec)\n",
    "    ).SerializeToString()\n",
    "\n",
    "    result = [{\"examples\": {\"b64\": base64.b64encode(example).decode()}}]\n",
    "\n",
    "    return json.dumps({\"signature_name\": \"serving_default\", \"instances\": result})"
   ]
  },
  {
   "cell_type": "code",
   "execution_count": 19,
   "metadata": {},
   "outputs": [],
   "source": [
    "def predict(text):\n",
    "    json_data = json_prepare(text)\n",
    "\n",
    "    endpoint = \"http://localhost:8080/v1/models/racism-detection-model:predict\"\n",
    "    response = requests.post(endpoint, data=json_data)\n",
    "    print(response.json())\n",
    "    print(json_data)\n",
    "    prediction = response.json()[\"predictions\"][132][0]\n",
    "\n",
    "    return prediction"
   ]
  },
  {
   "cell_type": "code",
   "execution_count": 20,
   "metadata": {},
   "outputs": [
    {
     "name": "stdout",
     "output_type": "stream",
     "text": [
      "{'error': 'Name: <unknown>, Feature: Annotation (data type: string) is required but could not be found.\\n\\t [[{{function_node __inference_serve_tf_examples_fn_293400}}{{node ParseExample/ParseExampleV2}}]]'}\n",
      "{\"signature_name\": \"serving_default\", \"instances\": [{\"examples\": {\"b64\": \"CnMKcQoEdGV4dBJpCmcKZWkgZG9uJ3Qga25vdyBiZWNhdXNlIGkgaGFkIGV2ZXJ5b25lIGVsc2Ugb24gdGhhdCB0aHJlYWQgYmxvY2tlZC4gYnV0IGknbSBhbSBsb2xpbmcgc28gaGFyZCByaWdodCBub3cu\"}}]}\n"
     ]
    },
    {
     "ename": "KeyError",
     "evalue": "'predictions'",
     "output_type": "error",
     "traceback": [
      "\u001b[1;31m---------------------------------------------------------------------------\u001b[0m",
      "\u001b[1;31mKeyError\u001b[0m                                  Traceback (most recent call last)",
      "\u001b[1;32m~\\AppData\\Local\\Temp\\ipykernel_6408\\2392140986.py\u001b[0m in \u001b[0;36m<cell line: 1>\u001b[1;34m()\u001b[0m\n\u001b[1;32m----> 1\u001b[1;33m \u001b[0mpredict\u001b[0m\u001b[1;33m(\u001b[0m\u001b[0mtesting_text\u001b[0m\u001b[1;33m)\u001b[0m\u001b[1;33m\u001b[0m\u001b[1;33m\u001b[0m\u001b[0m\n\u001b[0m",
      "\u001b[1;32m~\\AppData\\Local\\Temp\\ipykernel_6408\\4027475090.py\u001b[0m in \u001b[0;36mpredict\u001b[1;34m(text)\u001b[0m\n\u001b[0;32m      6\u001b[0m     \u001b[0mprint\u001b[0m\u001b[1;33m(\u001b[0m\u001b[0mresponse\u001b[0m\u001b[1;33m.\u001b[0m\u001b[0mjson\u001b[0m\u001b[1;33m(\u001b[0m\u001b[1;33m)\u001b[0m\u001b[1;33m)\u001b[0m\u001b[1;33m\u001b[0m\u001b[1;33m\u001b[0m\u001b[0m\n\u001b[0;32m      7\u001b[0m     \u001b[0mprint\u001b[0m\u001b[1;33m(\u001b[0m\u001b[0mjson_data\u001b[0m\u001b[1;33m)\u001b[0m\u001b[1;33m\u001b[0m\u001b[1;33m\u001b[0m\u001b[0m\n\u001b[1;32m----> 8\u001b[1;33m     \u001b[0mprediction\u001b[0m \u001b[1;33m=\u001b[0m \u001b[0mresponse\u001b[0m\u001b[1;33m.\u001b[0m\u001b[0mjson\u001b[0m\u001b[1;33m(\u001b[0m\u001b[1;33m)\u001b[0m\u001b[1;33m[\u001b[0m\u001b[1;34m\"predictions\"\u001b[0m\u001b[1;33m]\u001b[0m\u001b[1;33m[\u001b[0m\u001b[1;36m132\u001b[0m\u001b[1;33m]\u001b[0m\u001b[1;33m[\u001b[0m\u001b[1;36m0\u001b[0m\u001b[1;33m]\u001b[0m\u001b[1;33m\u001b[0m\u001b[1;33m\u001b[0m\u001b[0m\n\u001b[0m\u001b[0;32m      9\u001b[0m \u001b[1;33m\u001b[0m\u001b[0m\n\u001b[0;32m     10\u001b[0m     \u001b[1;32mreturn\u001b[0m \u001b[0mprediction\u001b[0m\u001b[1;33m\u001b[0m\u001b[1;33m\u001b[0m\u001b[0m\n",
      "\u001b[1;31mKeyError\u001b[0m: 'predictions'"
     ]
    }
   ],
   "source": [
    "predict(testing_text)"
   ]
  },
  {
   "cell_type": "code",
   "execution_count": null,
   "metadata": {},
   "outputs": [],
   "source": []
  }
 ],
 "metadata": {
  "kernelspec": {
   "display_name": "mlops-tfx",
   "language": "python",
   "name": "python3"
  },
  "language_info": {
   "codemirror_mode": {
    "name": "ipython",
    "version": 3
   },
   "file_extension": ".py",
   "mimetype": "text/x-python",
   "name": "python",
   "nbconvert_exporter": "python",
   "pygments_lexer": "ipython3",
   "version": "3.9.15"
  }
 },
 "nbformat": 4,
 "nbformat_minor": 2
}
