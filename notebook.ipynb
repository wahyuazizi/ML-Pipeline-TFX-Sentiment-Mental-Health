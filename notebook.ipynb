{
 "cells": [
  {
   "cell_type": "markdown",
   "metadata": {},
   "source": [
    "## Setup"
   ]
  },
  {
   "cell_type": "code",
   "execution_count": 1,
   "metadata": {},
   "outputs": [],
   "source": [
    "import tensorflow as tf\n",
    "from tfx.components import CsvExampleGen, StatisticsGen, SchemaGen, ExampleValidator, Transform, Trainer, Tuner\n",
    "from tfx.proto import example_gen_pb2\n",
    "from tfx.orchestration.experimental.interactive.interactive_context import InteractiveContext\n",
    "import os"
   ]
  },
  {
   "cell_type": "markdown",
   "metadata": {},
   "source": [
    "## Set Variable"
   ]
  },
  {
   "cell_type": "code",
   "execution_count": null,
   "metadata": {},
   "outputs": [],
   "source": [
    "import pandas as pd\n",
    "\n",
    "df = pd.read_csv(\"hf://datasets/dwisaji/indonesia-telecomunication-sentiment-dataset/dataset4.csv\")\n",
    "\n",
    "\n",
    "# Tentukan path folder 'data' di direktori saat ini\n",
    "save_dir = \"data\"\n",
    "os.makedirs(save_dir, exist_ok=True)  # Buat folder jika belum ada\n",
    "\n",
    "# Simpan file CSV dalam folder 'data'\n",
    "save_path = os.path.join(save_dir, \"data.csv\")\n",
    "df.to_csv(save_path, index=False)\n",
    "\n",
    "print(f\"File disimpan di {save_path}\")"
   ]
  },
  {
   "cell_type": "code",
   "execution_count": 3,
   "metadata": {},
   "outputs": [],
   "source": [
    "PIPELINE_NAME = \"indo-tele-pipeline\"\n",
    "SCHEMA_PIPELINE_NAME = \"indo-tele-tfdv-schema\"\n",
    "\n",
    "#Directory untuk menyimpan artifact yang akan dihasilkan\n",
    "PIPELINE_ROOT = os.path.join('pipelines', PIPELINE_NAME)\n",
    "\n",
    "# Path to a SQLite DB file to use as an MLMD storage\n",
    "METADATA_PATH = os.path.join('metadata', PIPELINE_NAME, 'metadata.db')\n",
    "\n",
    "# Output directory where createdmodels from the pipeline will be exported\n",
    "SERVING_MODEL_DIR = os.path.join('serving_model', PIPELINE_NAME)\n",
    "\n",
    "DATA_ROOT = \"data\"\n",
    "\n",
    "os.makedirs(\"module\", exist_ok=True)"
   ]
  },
  {
   "cell_type": "code",
   "execution_count": null,
   "metadata": {},
   "outputs": [],
   "source": [
    "interactive_context = InteractiveContext(pipeline_root = PIPELINE_ROOT)"
   ]
  },
  {
   "cell_type": "markdown",
   "metadata": {},
   "source": [
    "## Data Ingestion"
   ]
  },
  {
   "cell_type": "code",
   "execution_count": 5,
   "metadata": {},
   "outputs": [],
   "source": [
    "output = example_gen_pb2.Output(\n",
    "    split_config = example_gen_pb2.SplitConfig(splits=[\n",
    "        example_gen_pb2.SplitConfig.Split(name='train', hash_buckets=8),\n",
    "        example_gen_pb2.SplitConfig.Split(name='eval', hash_buckets=2)\n",
    "    ])\n",
    ")\n",
    "\n",
    "example_gen = CsvExampleGen(input_base=DATA_ROOT, output_config=output)"
   ]
  },
  {
   "cell_type": "code",
   "execution_count": null,
   "metadata": {},
   "outputs": [],
   "source": [
    "interactive_context.run(example_gen)"
   ]
  },
  {
   "cell_type": "markdown",
   "metadata": {},
   "source": [
    "## Data Validation\n",
    "### 1. Summary Statistic"
   ]
  },
  {
   "cell_type": "code",
   "execution_count": null,
   "metadata": {},
   "outputs": [],
   "source": [
    "statistics_gen = StatisticsGen(\n",
    "    examples = example_gen.outputs['examples']\n",
    ")\n",
    "\n",
    "interactive_context.run(statistics_gen)"
   ]
  },
  {
   "cell_type": "code",
   "execution_count": null,
   "metadata": {},
   "outputs": [],
   "source": [
    "interactive_context.show(statistics_gen.outputs[\"statistics\"])"
   ]
  },
  {
   "cell_type": "markdown",
   "metadata": {},
   "source": [
    "### 2. Data Schema"
   ]
  },
  {
   "cell_type": "code",
   "execution_count": null,
   "metadata": {},
   "outputs": [],
   "source": [
    "schema_gen = SchemaGen(\n",
    "    statistics = statistics_gen.outputs[\"statistics\"]\n",
    ")\n",
    "interactive_context.run(schema_gen)"
   ]
  },
  {
   "cell_type": "code",
   "execution_count": null,
   "metadata": {},
   "outputs": [],
   "source": [
    "interactive_context.show(schema_gen.outputs['schema'])"
   ]
  },
  {
   "cell_type": "markdown",
   "metadata": {},
   "source": [
    "### 3. Identifikasi Anomali"
   ]
  },
  {
   "cell_type": "code",
   "execution_count": null,
   "metadata": {},
   "outputs": [],
   "source": [
    "example_validator = ExampleValidator(\n",
    "    statistics = statistics_gen.outputs[\"statistics\"],\n",
    "    schema = schema_gen.outputs[\"schema\"]\n",
    ")\n",
    "interactive_context.run(example_validator)"
   ]
  },
  {
   "cell_type": "code",
   "execution_count": null,
   "metadata": {},
   "outputs": [],
   "source": [
    "interactive_context.show(example_validator.outputs[\"anomalies\"])"
   ]
  },
  {
   "cell_type": "markdown",
   "metadata": {},
   "source": [
    "## Data Preprocessing"
   ]
  },
  {
   "cell_type": "code",
   "execution_count": 13,
   "metadata": {},
   "outputs": [],
   "source": [
    "TRANSFORM_MODULE_FILE = 'module/data_transform.py'"
   ]
  },
  {
   "cell_type": "code",
   "execution_count": null,
   "metadata": {},
   "outputs": [],
   "source": [
    "%%writefile {TRANSFORM_MODULE_FILE}\n",
    "\n",
    "import tensorflow as tf\n",
    "import tensorflow_transform as tft\n",
    "\n",
    "LABEL_KEY = 'label'\n",
    "FEATURE_KEY = 'text'\n",
    "def transformed_name(key):\n",
    "    return key + \"_xf\"\n",
    "\n",
    "def preprocessing_fn(inputs):\n",
    "    \n",
    "    outputs = {}\n",
    "    # Pastikan teks dalam bentuk DenseTensor sebelum transformasi\n",
    "    text_input = inputs[FEATURE_KEY]\n",
    "    \n",
    "    outputs[transformed_name(FEATURE_KEY)] = tf.strings.lower(text_input)\n",
    "    outputs[transformed_name(LABEL_KEY)] = tf.cast(inputs[LABEL_KEY], tf.int64)\n",
    "    return outputs"
   ]
  },
  {
   "cell_type": "code",
   "execution_count": null,
   "metadata": {},
   "outputs": [],
   "source": [
    "transform = Transform(\n",
    "    examples = example_gen.outputs['examples'],\n",
    "    schema = schema_gen.outputs['schema'],\n",
    "    module_file = TRANSFORM_MODULE_FILE,\n",
    ")\n",
    "\n",
    "interactive_context.run(transform)"
   ]
  },
  {
   "cell_type": "markdown",
   "metadata": {},
   "source": [
    "## Pengembangan Model"
   ]
  },
  {
   "cell_type": "markdown",
   "metadata": {},
   "source": [
    "### Tuner"
   ]
  },
  {
   "cell_type": "code",
   "execution_count": 16,
   "metadata": {},
   "outputs": [],
   "source": [
    "TUNER_MODULE_FILE = \"module/tuner.py\""
   ]
  },
  {
   "cell_type": "code",
   "execution_count": null,
   "metadata": {},
   "outputs": [],
   "source": [
    "%%writefile {TUNER_MODULE_FILE}\n",
    "\n",
    "from typing import Any, Dict, NamedTuple, Text\n",
    "import keras_tuner as kt\n",
    "import tensorflow as tf\n",
    "import tensorflow_transform as tft\n",
    "from keras_tuner.engine import base_tuner\n",
    "from tensorflow.keras import layers\n",
    "from tfx.components.trainer.fn_args_utils import FnArgs\n",
    "from tensorflow.keras.layers import LeakyReLU\n",
    "\n",
    "LABEL_KEY = \"label\"\n",
    "FEATURE_KEY = \"text\"\n",
    "VOCAB_SIZE = 10000\n",
    "epochs = 5\n",
    "\n",
    "TunerFnResult = NamedTuple(\n",
    "    \"TunerFnResult\", [(\"tuner\", base_tuner.BaseTuner), (\"fit_kwargs\", Dict[Text, Any])]\n",
    ")\n",
    "\n",
    "def transformed_name(key):\n",
    "    return key + \"_xf\"\n",
    "\n",
    "def gzip_reader_fn(filenames):\n",
    "    return tf.data.TFRecordDataset(filenames, compression_type='GZIP')\n",
    "\n",
    "def input_fn(\n",
    "    file_pattern, \n",
    "    tf_transform_output, \n",
    "    num_epochs, \n",
    "    batch_size=64) -> tf.data.Dataset:\n",
    "\n",
    "    # Get post_transform feature spec\n",
    "    transform_feature_spec = (\n",
    "        tf_transform_output.transformed_feature_spec().copy()\n",
    "    )\n",
    "\n",
    "    # Create bacthes of data\n",
    "    dataset = tf.data.experimental.make_batched_features_dataset(\n",
    "        file_pattern = file_pattern,\n",
    "        batch_size = batch_size,\n",
    "        features = transform_feature_spec,\n",
    "        reader = gzip_reader_fn,\n",
    "        num_epochs = num_epochs,\n",
    "        label_key = transformed_name(LABEL_KEY)\n",
    "    ).repeat(epochs)\n",
    "\n",
    "    return dataset\n",
    " \n",
    "\n",
    "def model_builder(hp, vectorizer):\n",
    "    ### Define parameter yang digunakan untuk tuning\n",
    "    num_layer = hp.Int(\"num_layer\", min_value=1, max_value=5, step=1)\n",
    "    embed_dim = hp.Int(\"embed_dim\", min_value=16, max_value=128, step=32)\n",
    "    fc_layer = hp.Int(\"fc_layer\", min_value=32, max_value=128, step=16)\n",
    "    lr = hp.Choice(\"lr\", values=[1e-2, 1e-3, 1e-4])\n",
    "\n",
    "    inputs = tf.keras.Input(shape=(1,), name=transformed_name(FEATURE_KEY), dtype=tf.string)\n",
    "    x = vectorizer(inputs)\n",
    "    x = layers.Embedding(VOCAB_SIZE, embed_dim, name=\"embedding\")(x)\n",
    "    x = layers.GlobalAveragePooling1D()(x)\n",
    "    x = layers.Dropout(0.2)(x)\n",
    "    for _ in range(num_layer):\n",
    "        x = layers.Dense(fc_layer, activation='relu')(x)\n",
    "    \n",
    "    x = layers.Dropout(0.2)(x)\n",
    "    outputs = layers.Dense(3, activation='softmax')(x)\n",
    "\n",
    "    model = tf.keras.Model(inputs=inputs, outputs=outputs)\n",
    "    model.compile(\n",
    "        loss = tf.keras.losses.SparseCategoricalCrossentropy(),\n",
    "        optimizer = tf.keras.optimizers.Adam(learning_rate=lr),\n",
    "        metrics = [tf.keras.metrics.SparseCategoricalAccuracy()]\n",
    "    )\n",
    "\n",
    "    model.summary()\n",
    "    return model\n",
    "\n",
    "def tuner_fn(fn_args):\n",
    "    # Membuat training dan validation datasetyang telah di preprocessing\n",
    "    tf_transform_output = tft.TFTransformOutput(fn_args.transform_graph_path)\n",
    "    train_set = input_fn(fn_args.train_files[0], tf_transform_output, num_epochs=epochs)\n",
    "    val_set = input_fn(fn_args.eval_files[0], tf_transform_output, num_epochs=epochs)\n",
    "\n",
    "    vectorize_layer = layers.TextVectorization(\n",
    "        standardize = \"lower_and_strip_punctuation\",\n",
    "        max_tokens = 200,\n",
    "        output_mode = 'int',\n",
    "        output_sequence_length = 100\n",
    "    )\n",
    "\n",
    "    vectorize_layer.adapt(train_set.map(lambda x, _: x[transformed_name(FEATURE_KEY)]))\n",
    "\n",
    "    # Callback untuk early stopping\n",
    "    stop_early = tf.keras.callbacks.EarlyStopping(\n",
    "        monitor='val_sparse_categorical_accuracy', \n",
    "        mode='max', \n",
    "        verbose=1, \n",
    "        patience=15\n",
    "    )\n",
    "\n",
    "    # Mendefinisikan strategi hyperparameter tuning\n",
    "    # tuner = kt.RandomSearch(\n",
    "    #     hypermodel = lambda hp: model_builder(hp, vectorize_layer),\n",
    "    #     objective = 'val_sparse_categorical_accuracy',\n",
    "    #     max_trials = epochs,\n",
    "    #     seed = 28,\n",
    "    # )\n",
    "    tuner = kt.Hyperband(\n",
    "        lambda hp: model_builder(hp, vectorize_layer),\n",
    "        objective = 'val_sparse_categorical_accuracy',\n",
    "        max_epochs = epochs,\n",
    "        factor = 3,\n",
    "        directory = fn_args.working_dir,\n",
    "        project_name = 'kt_hyperband'\n",
    "    )\n",
    "\n",
    "    return TunerFnResult(\n",
    "        tuner = tuner,\n",
    "        fit_kwargs = {\n",
    "            \"callbacks\": [stop_early],\n",
    "            'x' : train_set,\n",
    "            'validation_data': val_set,\n",
    "            'steps_per_epoch': fn_args.train_steps,\n",
    "            'validation_steps': fn_args.eval_steps\n",
    "        }\n",
    "    )\n"
   ]
  },
  {
   "cell_type": "code",
   "execution_count": null,
   "metadata": {},
   "outputs": [],
   "source": [
    "from tfx.components import Tuner\n",
    "from tfx.proto import trainer_pb2\n",
    "\n",
    "tuner = Tuner(\n",
    "    module_file = TUNER_MODULE_FILE,\n",
    "    examples = transform.outputs['transformed_examples'],\n",
    "    transform_graph = transform.outputs['transform_graph'],\n",
    "    schema = schema_gen.outputs['schema'],\n",
    "    train_args = trainer_pb2.TrainArgs(splits=['train'], num_steps=500),\n",
    "    eval_args = trainer_pb2.EvalArgs(splits=['eval'], num_steps=100)\n",
    ")\n",
    "\n",
    "interactive_context.run(tuner)"
   ]
  },
  {
   "cell_type": "markdown",
   "metadata": {},
   "source": [
    "### Trainer"
   ]
  },
  {
   "cell_type": "code",
   "execution_count": 19,
   "metadata": {},
   "outputs": [],
   "source": [
    "TRAINER_MODULE_FILE = \"module/indo_tele_sentiment.py\""
   ]
  },
  {
   "cell_type": "code",
   "execution_count": null,
   "metadata": {},
   "outputs": [],
   "source": [
    "%%writefile {TRAINER_MODULE_FILE}\n",
    "\n",
    "import os\n",
    "import tensorflow as tf\n",
    "import tensorflow_hub as hub\n",
    "# import tensorflow_text as text\n",
    "import tensorflow_transform as tft\n",
    "from tensorflow.keras import layers\n",
    "from tfx.components.trainer.fn_args_utils import FnArgs\n",
    "\n",
    "LABEL_KEY = \"label\"\n",
    "FEATURE_KEY = \"text\"\n",
    "\n",
    "def transformed_name(key):\n",
    "    return key + \"_xf\"\n",
    "\n",
    "def gzip_reader_fn(filenames):\n",
    "    return tf.data.TFRecordDataset(filenames, compression_type='GZIP')\n",
    "\n",
    "def input_fn(\n",
    "    file_pattern, \n",
    "    tf_transform_output, \n",
    "    num_epochs, \n",
    "    batch_size=64) -> tf.data.Dataset:\n",
    "\n",
    "    # Get post_transform feature spec\n",
    "    transform_feature_spec = (\n",
    "        tf_transform_output.transformed_feature_spec().copy()\n",
    "    )\n",
    "\n",
    "    # Create bacthes of data\n",
    "    dataset = tf.data.experimental.make_batched_features_dataset(\n",
    "        file_pattern = file_pattern,\n",
    "        batch_size = batch_size,\n",
    "        features = transform_feature_spec,\n",
    "        reader = gzip_reader_fn,\n",
    "        num_epochs = num_epochs,\n",
    "        label_key = transformed_name(LABEL_KEY)\n",
    "    )\n",
    "\n",
    "    return dataset\n",
    " \n",
    "# Vocab size and number of words in a sequence.\n",
    "VOCAB_SIZE = 10000\n",
    "SEQUENCE_LENGTH = 100\n",
    "embed_dim = 16\n",
    "epochs = 25\n",
    "\n",
    "def model_builder(hp, vectorizer):\n",
    "    \"\"\"Build ML model\"\"\"\n",
    "    inputs = tf.keras.Input(shape=(1,), name=transformed_name(FEATURE_KEY), dtype=tf.string)\n",
    "    x = vectorizer(inputs)\n",
    "    x = layers.Embedding(VOCAB_SIZE, hp.get(\"embed_dim\"), name=\"embedding\")(x)\n",
    "    x = layers.GlobalAveragePooling1D()(x)\n",
    "\n",
    "    for _ in range(hp.get(\"num_layer\")):\n",
    "        x = layers.Dense(hp.get(\"fc_layer\"), activation='relu')(x)\n",
    "    \n",
    "    x = layers.Dropout(0.2)(x)\n",
    "    outputs = layers.Dense(3, activation='softmax')(x)\n",
    "\n",
    "    model = tf.keras.Model(inputs=inputs, outputs=outputs)\n",
    "    model.compile(\n",
    "        loss = tf.keras.losses.SparseCategoricalCrossentropy(),\n",
    "        optimizer = tf.keras.optimizers.Adam(learning_rate=hp.get(\"lr\")),\n",
    "        metrics = [tf.keras.metrics.SparseCategoricalAccuracy()]\n",
    "    )\n",
    "\n",
    "    model.summary()\n",
    "    return model\n",
    "\n",
    "\n",
    "def _get_serve_tf_examples_fn(model, tf_transform_output):\n",
    "    model.tft_layer = tf_transform_output.transform_features_layer()\n",
    "\n",
    "    @tf.function\n",
    "    def serve_tf_examples_fn(serialized_tf_examples):\n",
    "        feature_spec = tf_transform_output.raw_feature_spec()\n",
    "\n",
    "        feature_spec.pop(LABEL_KEY)\n",
    "\n",
    "        parsed_features = tf.io.parse_example(serialized_tf_examples, feature_spec)\n",
    "\n",
    "        transformed_features = model.tft_layer(parsed_features)\n",
    "\n",
    "        # get predictions using the transformed features\n",
    "        return model(transformed_features)\n",
    "    return serve_tf_examples_fn\n",
    "\n",
    "def run_fn(fn_args: FnArgs) -> None:\n",
    "\n",
    "    log_dir = os.path.join(os.path.dirname(fn_args.serving_model_dir), 'logs')\n",
    "\n",
    "    tensorboard_callback = tf.keras.callbacks.TensorBoard(\n",
    "        log_dir = log_dir, update_freq='batch'\n",
    "    )\n",
    "\n",
    "    es = tf.keras.callbacks.EarlyStopping(\n",
    "        monitor='val_sparse_categorical_accuracy', \n",
    "        mode='max', \n",
    "        verbose=1, \n",
    "        patience=10\n",
    "    )\n",
    "    mc = tf.keras.callbacks.ModelCheckpoint(\n",
    "        fn_args.serving_model_dir, \n",
    "        monitor='val_sparse_categorical_accuracy', \n",
    "        mode='max', \n",
    "        verbose=1, \n",
    "        save_best_only=True\n",
    "    )\n",
    "    hp = fn_args.hyperparameters.get(\"values\")\n",
    "\n",
    "    # Load the transform output\n",
    "    tf_transform_output = tft.TFTransformOutput(fn_args.transform_graph_path)\n",
    "\n",
    "    # Create bacthes of data\n",
    "    train_set = input_fn(fn_args.train_files, tf_transform_output, hp.get(\"tuner/epochs\"))\n",
    "    val_set = input_fn(fn_args.eval_files, tf_transform_output, hp.get(\"tuner/epochs\"))\n",
    "    vectorize_layer = layers.TextVectorization(\n",
    "        standardize = \"lower_and_strip_punctuation\",\n",
    "        max_tokens = VOCAB_SIZE,\n",
    "        output_mode = 'int',\n",
    "        output_sequence_length = SEQUENCE_LENGTH\n",
    "    )\n",
    "    vectorize_layer.adapt(train_set.map(lambda x, _: x[transformed_name(FEATURE_KEY)]))\n",
    "\n",
    "\n",
    "    # Build Model\n",
    "    model = model_builder(hp, vectorize_layer)\n",
    "\n",
    "    # Train the model\n",
    "    model.fit(\n",
    "        x = train_set.repeat(),\n",
    "        validation_data = val_set.repeat(),\n",
    "        callbacks = [tensorboard_callback, es, mc],\n",
    "        steps_per_epoch = 100,\n",
    "        validation_steps = 100,\n",
    "        epochs = hp.get(\"tuner/epochs\")\n",
    "    )\n",
    "\n",
    "    signatures = {\n",
    "        'serving_default' : _get_serve_tf_examples_fn(model, tf_transform_output).get_concrete_function(\n",
    "            tf.TensorSpec(\n",
    "            shape=[None],\n",
    "            dtype = tf.string,\n",
    "            name = 'examples'\n",
    "            )\n",
    "        )\n",
    "    }\n",
    "\n",
    "    model.save(fn_args.serving_model_dir, save_format = 'tf', signatures=signatures)\n"
   ]
  },
  {
   "cell_type": "code",
   "execution_count": null,
   "metadata": {},
   "outputs": [],
   "source": [
    "from tfx.proto import trainer_pb2\n",
    "\n",
    "trainer = Trainer(\n",
    "    module_file = os.path.abspath(TRAINER_MODULE_FILE),\n",
    "    examples = transform.outputs['transformed_examples'],\n",
    "    transform_graph = transform.outputs['transform_graph'],\n",
    "    schema = schema_gen.outputs['schema'],\n",
    "    hyperparameters= tuner.outputs['best_hyperparameters'],\n",
    "    train_args = trainer_pb2.TrainArgs(splits=['train']),\n",
    "    eval_args = trainer_pb2.EvalArgs(splits=['eval'])\n",
    ")\n",
    "interactive_context.run(trainer)"
   ]
  },
  {
   "cell_type": "markdown",
   "metadata": {},
   "source": [
    "## Analisis dan Validasi Model "
   ]
  },
  {
   "cell_type": "code",
   "execution_count": null,
   "metadata": {},
   "outputs": [],
   "source": [
    "# Melakukan analisis dan validasi dengan menyediakan baseline model menggunakan Resolver\n",
    "\n",
    "from tfx.dsl.components.common.resolver import Resolver\n",
    "from tfx.dsl.input_resolution.strategies.latest_blessed_model_strategy import LatestBlessedModelStrategy\n",
    "from tfx.types import Channel\n",
    "from tfx.types.standard_artifacts import Model, ModelBlessing\n",
    "\n",
    "model_resolver = Resolver(\n",
    "    strategy_class = LatestBlessedModelStrategy,\n",
    "    model = Channel(type=Model),\n",
    "    model_blessing = Channel(type=ModelBlessing)\n",
    ").with_id('Latest_blessed_model_resolver')\n",
    "\n",
    "interactive_context.run(model_resolver)"
   ]
  },
  {
   "cell_type": "code",
   "execution_count": 20,
   "metadata": {},
   "outputs": [],
   "source": [
    "# Konfigurasi untuk mengevaluasi model\n",
    "\n",
    "import tensorflow_model_analysis as tfma\n",
    "\n",
    "eval_config = tfma.EvalConfig(\n",
    "    model_specs = [tfma.ModelSpec(label_key='label')],\n",
    "    slicing_specs = [tfma.SlicingSpec()],\n",
    "    metrics_specs = [\n",
    "        tfma.MetricsSpec(metrics=[\n",
    "            tfma.MetricConfig(class_name='ExampleCount'),\n",
    "            tfma.MetricConfig(class_name='AUC'),\n",
    "            tfma.MetricConfig(class_name='FalsePositives'),\n",
    "            tfma.MetricConfig(class_name='TruePositives'),\n",
    "            tfma.MetricConfig(class_name='FalseNegatives'),\n",
    "            tfma.MetricConfig(class_name='TruePositives'),\n",
    "            tfma.MetricConfig(class_name='BinaryAccuracy',\n",
    "                              threshold = tfma.MetricThreshold(\n",
    "                                  value_threshold = tfma.GenericValueThreshold(\n",
    "                                      lower_bound = {'value':0.5}\n",
    "                                  ),\n",
    "                                  change_threshold = tfma.GenericChangeThreshold(\n",
    "                                      direction = tfma.MetricDirection.HIGHER_IS_BETTER,\n",
    "                                      absolute={'value': 0.0001}\n",
    "                                  )\n",
    "                              ))\n",
    "        ])\n",
    "    ]\n",
    ")"
   ]
  },
  {
   "cell_type": "code",
   "execution_count": null,
   "metadata": {},
   "outputs": [],
   "source": [
    "from tfx.components import Evaluator\n",
    "evaluator = Evaluator(\n",
    "    examples = example_gen.outputs['examples'],\n",
    "    model = trainer.outputs['model'],\n",
    "    baseline_model = model_resolver.outputs['model'],\n",
    "    eval_config = eval_config\n",
    ")\n",
    "\n",
    "interactive_context.run(evaluator)"
   ]
  },
  {
   "cell_type": "code",
   "execution_count": null,
   "metadata": {},
   "outputs": [],
   "source": [
    "# Visualisasi hasil evaluasi\n",
    "eval_result = evaluator.outputs['evaluation'].get()[0].uri\n",
    "tfma_result = tfma.load_eval_result(eval_result)\n",
    "tfma.view.render_slicing_metrics(tfma_result)\n",
    "tfma.addons.fairness.view.widget_view.render_fairness_indicator(\n",
    "    tfma_result\n",
    ")"
   ]
  },
  {
   "cell_type": "code",
   "execution_count": null,
   "metadata": {},
   "outputs": [],
   "source": []
  }
 ],
 "metadata": {
  "kernelspec": {
   "display_name": "mlops-tfx",
   "language": "python",
   "name": "python3"
  },
  "language_info": {
   "codemirror_mode": {
    "name": "ipython",
    "version": 3
   },
   "file_extension": ".py",
   "mimetype": "text/x-python",
   "name": "python",
   "nbconvert_exporter": "python",
   "pygments_lexer": "ipython3",
   "version": "3.9.15"
  }
 },
 "nbformat": 4,
 "nbformat_minor": 2
}
